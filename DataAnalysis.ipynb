{
 "cells": [
  {
   "cell_type": "markdown",
   "id": "painful-flexibility",
   "metadata": {},
   "source": [
    "## Data analysis"
   ]
  },
  {
   "cell_type": "markdown",
   "id": "measured-concept",
   "metadata": {},
   "source": [
    "First, let's look at the data files we have. They are divided into 2 categories:\n",
    "1) data about the advertisement and the user to whom it was shown (impressions);\n",
    "2) data about advertising and users who clicked on it (clicks)."
   ]
  },
  {
   "cell_type": "code",
   "execution_count": 1,
   "id": "brave-conservation",
   "metadata": {},
   "outputs": [],
   "source": [
    "import pandas as pd\n",
    "import numpy as np\n",
    "from datetime import date, timedelta, datetime\n",
    "import seaborn as sns\n",
    "import matplotlib.pyplot as plt"
   ]
  },
  {
   "cell_type": "code",
   "execution_count": 11,
   "id": "lesser-federation",
   "metadata": {},
   "outputs": [],
   "source": [
    "pd.set_option('display.max_columns', None)"
   ]
  },
  {
   "cell_type": "markdown",
   "id": "improving-fleece",
   "metadata": {},
   "source": [
    "### Impressions\n",
    "\n",
    "The 2021-06-15-imp.csv file contains about 120 million lines, so the content will have to be considered and processed in fragments."
   ]
  },
  {
   "cell_type": "code",
   "execution_count": 7,
   "id": "through-narrow",
   "metadata": {
    "scrolled": true
   },
   "outputs": [
    {
     "name": "stdout",
     "output_type": "stream",
     "text": [
      "<class 'pandas.core.frame.DataFrame'>\n",
      "RangeIndex: 8000 entries, 0 to 7999\n",
      "Data columns (total 29 columns):\n",
      " #   Column            Non-Null Count  Dtype  \n",
      "---  ------            --------------  -----  \n",
      " 0   date              8000 non-null   object \n",
      " 1   dateTime          8000 non-null   object \n",
      " 2   campaign          8000 non-null   int64  \n",
      " 3   campaignType      8000 non-null   int64  \n",
      " 4   spot              8000 non-null   int64  \n",
      " 5   banner            8000 non-null   int64  \n",
      " 6   bannerSize        8000 non-null   object \n",
      " 7   uid               8000 non-null   object \n",
      " 8   language          8000 non-null   object \n",
      " 9   ip                8000 non-null   object \n",
      " 10  country           8000 non-null   object \n",
      " 11  city              8000 non-null   object \n",
      " 12  browser           8000 non-null   object \n",
      " 13  browserVersion    7997 non-null   float64\n",
      " 14  os                8000 non-null   object \n",
      " 15  osVersion         8000 non-null   int64  \n",
      " 16  deviceType        8000 non-null   object \n",
      " 17  deviceModel       8000 non-null   object \n",
      " 18  deviceBrand       8000 non-null   object \n",
      " 19  trafficSource     8000 non-null   int64  \n",
      " 20  affiliateNetwork  8000 non-null   int64  \n",
      " 21  offer             8000 non-null   int64  \n",
      " 22  path              8000 non-null   int64  \n",
      " 23  ua                8000 non-null   object \n",
      " 24  connType          7991 non-null   object \n",
      " 25  proxyType         1048 non-null   object \n",
      " 26  isp               8000 non-null   object \n",
      " 27  impressions       8000 non-null   int64  \n",
      " 28  costs             8000 non-null   float64\n",
      "dtypes: float64(2), int64(10), object(17)\n",
      "memory usage: 1.8+ MB\n"
     ]
    }
   ],
   "source": [
    "df_impr = pd.read_csv('2021-06-15-impr.csv', nrows=8000)\n",
    "df_impr.info()"
   ]
  },
  {
   "cell_type": "code",
   "execution_count": 12,
   "id": "australian-seating",
   "metadata": {
    "scrolled": true
   },
   "outputs": [
    {
     "data": {
      "text/html": [
       "<div>\n",
       "<style scoped>\n",
       "    .dataframe tbody tr th:only-of-type {\n",
       "        vertical-align: middle;\n",
       "    }\n",
       "\n",
       "    .dataframe tbody tr th {\n",
       "        vertical-align: top;\n",
       "    }\n",
       "\n",
       "    .dataframe thead th {\n",
       "        text-align: right;\n",
       "    }\n",
       "</style>\n",
       "<table border=\"1\" class=\"dataframe\">\n",
       "  <thead>\n",
       "    <tr style=\"text-align: right;\">\n",
       "      <th></th>\n",
       "      <th>date</th>\n",
       "      <th>dateTime</th>\n",
       "      <th>campaign</th>\n",
       "      <th>campaignType</th>\n",
       "      <th>spot</th>\n",
       "      <th>banner</th>\n",
       "      <th>bannerSize</th>\n",
       "      <th>uid</th>\n",
       "      <th>language</th>\n",
       "      <th>ip</th>\n",
       "      <th>country</th>\n",
       "      <th>city</th>\n",
       "      <th>browser</th>\n",
       "      <th>browserVersion</th>\n",
       "      <th>os</th>\n",
       "      <th>osVersion</th>\n",
       "      <th>deviceType</th>\n",
       "      <th>deviceModel</th>\n",
       "      <th>deviceBrand</th>\n",
       "      <th>trafficSource</th>\n",
       "      <th>affiliateNetwork</th>\n",
       "      <th>offer</th>\n",
       "      <th>path</th>\n",
       "      <th>ua</th>\n",
       "      <th>connType</th>\n",
       "      <th>proxyType</th>\n",
       "      <th>isp</th>\n",
       "      <th>impressions</th>\n",
       "      <th>costs</th>\n",
       "    </tr>\n",
       "  </thead>\n",
       "  <tbody>\n",
       "    <tr>\n",
       "      <th>0</th>\n",
       "      <td>2021-06-15</td>\n",
       "      <td>2021-06-15 05:54:01</td>\n",
       "      <td>91868</td>\n",
       "      <td>2</td>\n",
       "      <td>22441</td>\n",
       "      <td>273577</td>\n",
       "      <td>300x250</td>\n",
       "      <td>Edkk6nofMj</td>\n",
       "      <td>ja</td>\n",
       "      <td>126.77.22.23</td>\n",
       "      <td>JP</td>\n",
       "      <td>Minato-ku</td>\n",
       "      <td>Chrome Mobile iOS</td>\n",
       "      <td>91.0</td>\n",
       "      <td>iOS</td>\n",
       "      <td>14</td>\n",
       "      <td>Phone</td>\n",
       "      <td>iPhone</td>\n",
       "      <td>Apple</td>\n",
       "      <td>17</td>\n",
       "      <td>1</td>\n",
       "      <td>38757</td>\n",
       "      <td>13616</td>\n",
       "      <td>Mozilla/5.0 (iPhone; CPU iPhone OS 14_6 like M...</td>\n",
       "      <td>Cable/DSL</td>\n",
       "      <td>NaN</td>\n",
       "      <td>Softbank BB</td>\n",
       "      <td>1</td>\n",
       "      <td>0.000023</td>\n",
       "    </tr>\n",
       "    <tr>\n",
       "      <th>1</th>\n",
       "      <td>2021-06-15</td>\n",
       "      <td>2021-06-15 16:54:11</td>\n",
       "      <td>91868</td>\n",
       "      <td>2</td>\n",
       "      <td>22441</td>\n",
       "      <td>273577</td>\n",
       "      <td>300x250</td>\n",
       "      <td>uPGIpPBfpp</td>\n",
       "      <td>ja</td>\n",
       "      <td>60.68.128.248</td>\n",
       "      <td>JP</td>\n",
       "      <td>Minato-ku</td>\n",
       "      <td>Chrome Mobile iOS</td>\n",
       "      <td>91.0</td>\n",
       "      <td>iOS</td>\n",
       "      <td>14</td>\n",
       "      <td>Phone</td>\n",
       "      <td>iPhone</td>\n",
       "      <td>Apple</td>\n",
       "      <td>17</td>\n",
       "      <td>1</td>\n",
       "      <td>38757</td>\n",
       "      <td>13616</td>\n",
       "      <td>Mozilla/5.0 (iPhone; CPU iPhone OS 14_4 like M...</td>\n",
       "      <td>Cable/DSL</td>\n",
       "      <td>NaN</td>\n",
       "      <td>Softbank BB</td>\n",
       "      <td>1</td>\n",
       "      <td>0.000023</td>\n",
       "    </tr>\n",
       "    <tr>\n",
       "      <th>2</th>\n",
       "      <td>2021-06-15</td>\n",
       "      <td>2021-06-15 18:05:59</td>\n",
       "      <td>91868</td>\n",
       "      <td>2</td>\n",
       "      <td>22441</td>\n",
       "      <td>273577</td>\n",
       "      <td>300x250</td>\n",
       "      <td>f9rQ4gB4MH</td>\n",
       "      <td>ja</td>\n",
       "      <td>60.125.35.199</td>\n",
       "      <td>JP</td>\n",
       "      <td>Minato-ku</td>\n",
       "      <td>Chrome Mobile iOS</td>\n",
       "      <td>91.0</td>\n",
       "      <td>iOS</td>\n",
       "      <td>14</td>\n",
       "      <td>Phone</td>\n",
       "      <td>iPhone</td>\n",
       "      <td>Apple</td>\n",
       "      <td>17</td>\n",
       "      <td>1</td>\n",
       "      <td>38757</td>\n",
       "      <td>13616</td>\n",
       "      <td>Mozilla/5.0 (iPhone; CPU iPhone OS 14_6 like M...</td>\n",
       "      <td>Cable/DSL</td>\n",
       "      <td>NaN</td>\n",
       "      <td>Softbank BB</td>\n",
       "      <td>1</td>\n",
       "      <td>0.000023</td>\n",
       "    </tr>\n",
       "    <tr>\n",
       "      <th>3</th>\n",
       "      <td>2021-06-15</td>\n",
       "      <td>2021-06-15 01:24:56</td>\n",
       "      <td>91868</td>\n",
       "      <td>2</td>\n",
       "      <td>22441</td>\n",
       "      <td>273577</td>\n",
       "      <td>300x250</td>\n",
       "      <td>btnNxnBfp</td>\n",
       "      <td>ja</td>\n",
       "      <td>126.213.42.90</td>\n",
       "      <td>JP</td>\n",
       "      <td>Minato-ku</td>\n",
       "      <td>Chrome Mobile iOS</td>\n",
       "      <td>91.0</td>\n",
       "      <td>iOS</td>\n",
       "      <td>14</td>\n",
       "      <td>Phone</td>\n",
       "      <td>iPhone</td>\n",
       "      <td>Apple</td>\n",
       "      <td>17</td>\n",
       "      <td>1</td>\n",
       "      <td>38757</td>\n",
       "      <td>13616</td>\n",
       "      <td>Mozilla/5.0 (iPhone; CPU iPhone OS 14_6 like M...</td>\n",
       "      <td>Cable/DSL</td>\n",
       "      <td>NaN</td>\n",
       "      <td>Softbank BB</td>\n",
       "      <td>1</td>\n",
       "      <td>0.000023</td>\n",
       "    </tr>\n",
       "    <tr>\n",
       "      <th>4</th>\n",
       "      <td>2021-06-15</td>\n",
       "      <td>2021-06-15 13:22:15</td>\n",
       "      <td>91868</td>\n",
       "      <td>2</td>\n",
       "      <td>22441</td>\n",
       "      <td>273577</td>\n",
       "      <td>300x250</td>\n",
       "      <td>McAqXZBfpp</td>\n",
       "      <td>ja</td>\n",
       "      <td>60.132.68.169</td>\n",
       "      <td>JP</td>\n",
       "      <td>Minato-ku</td>\n",
       "      <td>Chrome Mobile iOS</td>\n",
       "      <td>91.0</td>\n",
       "      <td>iOS</td>\n",
       "      <td>14</td>\n",
       "      <td>Phone</td>\n",
       "      <td>iPhone</td>\n",
       "      <td>Apple</td>\n",
       "      <td>17</td>\n",
       "      <td>1</td>\n",
       "      <td>38757</td>\n",
       "      <td>13616</td>\n",
       "      <td>Mozilla/5.0 (iPhone; CPU iPhone OS 14_6 like M...</td>\n",
       "      <td>Cable/DSL</td>\n",
       "      <td>NaN</td>\n",
       "      <td>Softbank BB</td>\n",
       "      <td>1</td>\n",
       "      <td>0.000023</td>\n",
       "    </tr>\n",
       "  </tbody>\n",
       "</table>\n",
       "</div>"
      ],
      "text/plain": [
       "         date             dateTime  campaign  campaignType   spot  banner  \\\n",
       "0  2021-06-15  2021-06-15 05:54:01     91868             2  22441  273577   \n",
       "1  2021-06-15  2021-06-15 16:54:11     91868             2  22441  273577   \n",
       "2  2021-06-15  2021-06-15 18:05:59     91868             2  22441  273577   \n",
       "3  2021-06-15  2021-06-15 01:24:56     91868             2  22441  273577   \n",
       "4  2021-06-15  2021-06-15 13:22:15     91868             2  22441  273577   \n",
       "\n",
       "  bannerSize         uid language             ip country       city  \\\n",
       "0    300x250  Edkk6nofMj       ja   126.77.22.23      JP  Minato-ku   \n",
       "1    300x250  uPGIpPBfpp       ja  60.68.128.248      JP  Minato-ku   \n",
       "2    300x250  f9rQ4gB4MH       ja  60.125.35.199      JP  Minato-ku   \n",
       "3    300x250   btnNxnBfp       ja  126.213.42.90      JP  Minato-ku   \n",
       "4    300x250  McAqXZBfpp       ja  60.132.68.169      JP  Minato-ku   \n",
       "\n",
       "             browser  browserVersion   os  osVersion deviceType deviceModel  \\\n",
       "0  Chrome Mobile iOS            91.0  iOS         14      Phone      iPhone   \n",
       "1  Chrome Mobile iOS            91.0  iOS         14      Phone      iPhone   \n",
       "2  Chrome Mobile iOS            91.0  iOS         14      Phone      iPhone   \n",
       "3  Chrome Mobile iOS            91.0  iOS         14      Phone      iPhone   \n",
       "4  Chrome Mobile iOS            91.0  iOS         14      Phone      iPhone   \n",
       "\n",
       "  deviceBrand  trafficSource  affiliateNetwork  offer   path  \\\n",
       "0       Apple             17                 1  38757  13616   \n",
       "1       Apple             17                 1  38757  13616   \n",
       "2       Apple             17                 1  38757  13616   \n",
       "3       Apple             17                 1  38757  13616   \n",
       "4       Apple             17                 1  38757  13616   \n",
       "\n",
       "                                                  ua   connType proxyType  \\\n",
       "0  Mozilla/5.0 (iPhone; CPU iPhone OS 14_6 like M...  Cable/DSL       NaN   \n",
       "1  Mozilla/5.0 (iPhone; CPU iPhone OS 14_4 like M...  Cable/DSL       NaN   \n",
       "2  Mozilla/5.0 (iPhone; CPU iPhone OS 14_6 like M...  Cable/DSL       NaN   \n",
       "3  Mozilla/5.0 (iPhone; CPU iPhone OS 14_6 like M...  Cable/DSL       NaN   \n",
       "4  Mozilla/5.0 (iPhone; CPU iPhone OS 14_6 like M...  Cable/DSL       NaN   \n",
       "\n",
       "           isp  impressions     costs  \n",
       "0  Softbank BB            1  0.000023  \n",
       "1  Softbank BB            1  0.000023  \n",
       "2  Softbank BB            1  0.000023  \n",
       "3  Softbank BB            1  0.000023  \n",
       "4  Softbank BB            1  0.000023  "
      ]
     },
     "execution_count": 12,
     "metadata": {},
     "output_type": "execute_result"
    }
   ],
   "source": [
    "df_impr.head()"
   ]
  },
  {
   "cell_type": "markdown",
   "id": "binary-longitude",
   "metadata": {},
   "source": [
    "Let's look at the number of unique elements in each column"
   ]
  },
  {
   "cell_type": "code",
   "execution_count": 9,
   "id": "revolutionary-rebecca",
   "metadata": {
    "scrolled": true
   },
   "outputs": [
    {
     "name": "stdout",
     "output_type": "stream",
     "text": [
      "date : 1\n",
      "dateTime : 7396\n",
      "campaign : 1\n",
      "campaignType : 1\n",
      "spot : 1\n",
      "banner : 1\n",
      "bannerSize : 1\n",
      "uid : 7821\n",
      "language : 1\n",
      "ip : 6078\n",
      "country : 1\n",
      "city : 157\n",
      "browser : 5\n",
      "browserVersion : 25\n",
      "os : 1\n",
      "osVersion : 7\n",
      "deviceType : 1\n",
      "deviceModel : 1\n",
      "deviceBrand : 1\n",
      "trafficSource : 1\n",
      "affiliateNetwork : 1\n",
      "offer : 1\n",
      "path : 1\n",
      "ua : 237\n",
      "connType : 3\n",
      "proxyType : 3\n",
      "isp : 71\n",
      "impressions : 2\n",
      "costs : 2\n"
     ]
    }
   ],
   "source": [
    "# Unique elements in each column in the file with impressions\n",
    "for column in df_impr:\n",
    "    print(column, ':', df_impr[column].nunique())"
   ]
  },
  {
   "cell_type": "markdown",
   "id": "surprised-mustang",
   "metadata": {},
   "source": [
    "### Clicks\n",
    "In the file 2021-06-15-clc.csv - about 1.5 million lines."
   ]
  },
  {
   "cell_type": "code",
   "execution_count": 9,
   "id": "center-orchestra",
   "metadata": {
    "scrolled": true
   },
   "outputs": [
    {
     "name": "stdout",
     "output_type": "stream",
     "text": [
      "date : 1\n",
      "dateTime : 5735\n",
      "campaign : 94\n",
      "campaignType : 2\n",
      "spot : 13\n",
      "banner : 12\n",
      "bannerSize : 4\n",
      "uid : 4911\n",
      "language : 48\n",
      "ip : 4876\n",
      "country : 122\n",
      "city : 1402\n",
      "browser : 31\n",
      "browserVersion : 77\n",
      "os : 10\n",
      "osVersion : 19\n",
      "deviceType : 6\n",
      "deviceModel : 258\n",
      "deviceBrand : 20\n",
      "trafficSource : 6\n",
      "affiliateNetwork : 1\n",
      "offer : 17\n",
      "path : 22\n",
      "ua : 2013\n",
      "connType : 4\n",
      "proxyType : 3\n",
      "action : 2\n",
      "convType : 1\n",
      "convPayout : 2\n",
      "isp : 816\n",
      "revenue : 3\n"
     ]
    }
   ],
   "source": [
    "# Unique elements in each column in the file with clicks \n",
    "for column in clicks_df:\n",
    "    print(column, ':', clicks_df[column].nunique())"
   ]
  },
  {
   "cell_type": "markdown",
   "id": "opposed-intermediate",
   "metadata": {},
   "source": [
    "Based on the number of unique values for each of the parameters, we can conclude that BinaryEncoder is best for encoding them."
   ]
  },
  {
   "cell_type": "markdown",
   "id": "micro-cosmetic",
   "metadata": {},
   "source": [
    "### Analysis of records collected from the entire array of available data (files with impressions and clicks for the period 05/15/2021 - 06/15/2021)"
   ]
  },
  {
   "cell_type": "code",
   "execution_count": 11,
   "id": "executed-extraction",
   "metadata": {},
   "outputs": [],
   "source": [
    "# Loading a part of the collected data\n",
    "impressions_1406 =  pd.read_csv(\"E:/Work/RTB/forGit/data/impressions_data_2021-06-14.csv\")\n",
    "click_1406 =  pd.read_csv(\"E:/Work/RTB/forGit/data/click_data_2021-06-14.csv\")"
   ]
  },
  {
   "cell_type": "markdown",
   "id": "toxic-percentage",
   "metadata": {},
   "source": [
    "It should be noted that when processing the data and creating a sample, it was found that one column can contain data of different types."
   ]
  },
  {
   "cell_type": "code",
   "execution_count": 12,
   "id": "confused-baking",
   "metadata": {},
   "outputs": [
    {
     "name": "stdout",
     "output_type": "stream",
     "text": [
      "<class 'pandas.core.frame.DataFrame'>\n",
      "RangeIndex: 12915 entries, 0 to 12914\n",
      "Data columns (total 24 columns):\n",
      " #   Column          Non-Null Count  Dtype  \n",
      "---  ------          --------------  -----  \n",
      " 0   dateTime        12915 non-null  object \n",
      " 1   campaign        12915 non-null  int64  \n",
      " 2   campaignType    12915 non-null  int64  \n",
      " 3   spot            12915 non-null  int64  \n",
      " 4   banner          12915 non-null  int64  \n",
      " 5   bannerSize      12915 non-null  object \n",
      " 6   uid             12915 non-null  object \n",
      " 7   language        12883 non-null  object \n",
      " 8   ip              12915 non-null  object \n",
      " 9   country         12905 non-null  object \n",
      " 10  city            11847 non-null  object \n",
      " 11  browser         12915 non-null  object \n",
      " 12  browserVersion  12892 non-null  float64\n",
      " 13  os              12915 non-null  object \n",
      " 14  osVersion       12856 non-null  object \n",
      " 15  deviceType      12915 non-null  object \n",
      " 16  deviceModel     7645 non-null   object \n",
      " 17  deviceBrand     7645 non-null   object \n",
      " 18  trafficSource   12915 non-null  int64  \n",
      " 19  offer           12915 non-null  int64  \n",
      " 20  path            12915 non-null  int64  \n",
      " 21  ua              12915 non-null  object \n",
      " 22  connType        12823 non-null  object \n",
      " 23  proxyType       1338 non-null   object \n",
      "dtypes: float64(1), int64(7), object(16)\n",
      "memory usage: 2.4+ MB\n"
     ]
    }
   ],
   "source": [
    "# Displaying information about impression data for 06/14/2021\n",
    "impressions_1406.info()"
   ]
  },
  {
   "cell_type": "code",
   "execution_count": 13,
   "id": "satisfactory-restriction",
   "metadata": {
    "scrolled": true
   },
   "outputs": [
    {
     "name": "stdout",
     "output_type": "stream",
     "text": [
      "<class 'pandas.core.frame.DataFrame'>\n",
      "RangeIndex: 574 entries, 0 to 573\n",
      "Data columns (total 33 columns):\n",
      " #   Column           Non-Null Count  Dtype  \n",
      "---  ------           --------------  -----  \n",
      " 0   dateTime         574 non-null    object \n",
      " 1   campaign_x       574 non-null    int64  \n",
      " 2   campaignType_x   574 non-null    int64  \n",
      " 3   spot             574 non-null    int64  \n",
      " 4   banner           574 non-null    int64  \n",
      " 5   bannerSize       574 non-null    object \n",
      " 6   uid              574 non-null    object \n",
      " 7   language         574 non-null    object \n",
      " 8   ip               574 non-null    object \n",
      " 9   country          574 non-null    object \n",
      " 10  city             534 non-null    object \n",
      " 11  browser          574 non-null    object \n",
      " 12  browserVersion   574 non-null    float64\n",
      " 13  os               574 non-null    object \n",
      " 14  osVersion        570 non-null    object \n",
      " 15  deviceType       574 non-null    object \n",
      " 16  deviceModel      419 non-null    object \n",
      " 17  deviceBrand      419 non-null    object \n",
      " 18  trafficSource_x  574 non-null    int64  \n",
      " 19  offer_x          574 non-null    int64  \n",
      " 20  path_x           574 non-null    int64  \n",
      " 21  ua               574 non-null    object \n",
      " 22  connType         566 non-null    object \n",
      " 23  proxyType        87 non-null     object \n",
      " 24  campaign_y       574 non-null    int64  \n",
      " 25  campaignType_y   574 non-null    int64  \n",
      " 26  trafficSource_y  574 non-null    int64  \n",
      " 27  offer_y          574 non-null    int64  \n",
      " 28  path_y           574 non-null    int64  \n",
      " 29  action           574 non-null    object \n",
      " 30  convType         0 non-null      float64\n",
      " 31  convPayout       574 non-null    float64\n",
      " 32  revenue          574 non-null    float64\n",
      "dtypes: float64(4), int64(12), object(17)\n",
      "memory usage: 148.1+ KB\n"
     ]
    }
   ],
   "source": [
    "# Displaying information about data on \"clicks\" for 06/14/2021\n",
    "click_1406.info()"
   ]
  },
  {
   "cell_type": "markdown",
   "id": "organizational-clothing",
   "metadata": {},
   "source": [
    "Unique values in data"
   ]
  },
  {
   "cell_type": "code",
   "execution_count": 14,
   "id": "quick-picture",
   "metadata": {},
   "outputs": [
    {
     "name": "stdout",
     "output_type": "stream",
     "text": [
      "dateTime : 11954\n",
      "campaign : 409\n",
      "campaignType : 1\n",
      "spot : 409\n",
      "banner : 152\n",
      "bannerSize : 10\n",
      "uid : 12904\n",
      "language : 46\n",
      "ip : 12827\n",
      "country : 123\n",
      "city : 2465\n",
      "browser : 42\n",
      "browserVersion : 91\n",
      "os : 10\n",
      "osVersion : 34\n",
      "deviceType : 6\n",
      "deviceModel : 367\n",
      "deviceBrand : 24\n",
      "trafficSource : 9\n",
      "offer : 17\n",
      "path : 186\n",
      "ua : 3258\n",
      "connType : 4\n",
      "proxyType : 5\n"
     ]
    }
   ],
   "source": [
    "for column in impressions_1406:\n",
    "    print(column, ':', impressions_1406[column].nunique())"
   ]
  },
  {
   "cell_type": "code",
   "execution_count": 15,
   "id": "hired-affect",
   "metadata": {
    "scrolled": true
   },
   "outputs": [
    {
     "name": "stdout",
     "output_type": "stream",
     "text": [
      "dateTime : 334\n",
      "campaign_x : 61\n",
      "campaignType_x : 1\n",
      "spot : 61\n",
      "banner : 59\n",
      "bannerSize : 6\n",
      "uid : 330\n",
      "language : 11\n",
      "ip : 330\n",
      "country : 26\n",
      "city : 125\n",
      "browser : 21\n",
      "browserVersion : 53\n",
      "os : 6\n",
      "osVersion : 23\n",
      "deviceType : 3\n",
      "deviceModel : 81\n",
      "deviceBrand : 14\n",
      "trafficSource_x : 7\n",
      "offer_x : 11\n",
      "path_x : 63\n",
      "ua : 271\n",
      "connType : 3\n",
      "proxyType : 3\n",
      "campaign_y : 49\n",
      "campaignType_y : 2\n",
      "trafficSource_y : 10\n",
      "offer_y : 17\n",
      "path_y : 19\n",
      "action : 1\n",
      "convType : 0\n",
      "convPayout : 1\n",
      "revenue : 1\n"
     ]
    }
   ],
   "source": [
    "for column in click_1406:\n",
    "    print(column, ':', click_1406[column].nunique())"
   ]
  },
  {
   "cell_type": "markdown",
   "id": "compound-lesbian",
   "metadata": {},
   "source": [
    "When examining the received files, it was found that the records in which there is a positive income are completely absent in the files with impressions.\n",
    "The program that collects data has been supplemented in such a way that an array of data with clicks is formed separately, which is not compared with data from files with impressions."
   ]
  },
  {
   "cell_type": "code",
   "execution_count": 89,
   "id": "canadian-protest",
   "metadata": {},
   "outputs": [],
   "source": [
    "# Uploading a file with \"clicks\" in which users are present\n",
    "# with non-zero income\n",
    "rev_test =  pd.read_csv(\"E:/Work/RTB/forGit/data/revenue_2021-05-17.csv\")"
   ]
  },
  {
   "cell_type": "code",
   "execution_count": 90,
   "id": "complex-google",
   "metadata": {
    "scrolled": false
   },
   "outputs": [],
   "source": [
    "rev_test = rev_test.fillna(0)"
   ]
  },
  {
   "cell_type": "markdown",
   "id": "sharp-fantasy",
   "metadata": {},
   "source": [
    "Let's see how the amount of income is distributed. To do this, we will build a histogram (zero values are not considered, and the value is rounded)"
   ]
  },
  {
   "cell_type": "code",
   "execution_count": 95,
   "id": "external-grass",
   "metadata": {
    "scrolled": false
   },
   "outputs": [
    {
     "data": {
      "text/plain": [
       "<AxesSubplot:xlabel='revenue', ylabel='count'>"
      ]
     },
     "execution_count": 95,
     "metadata": {},
     "output_type": "execute_result"
    },
    {
     "data": {
      "image/png": "[encoded data removed]",
      "text/plain": [
       "<Figure size 1440x1440 with 1 Axes>"
      ]
     },
     "metadata": {
      "needs_background": "light"
     },
     "output_type": "display_data"
    }
   ],
   "source": [
    "rev_test['revenue'] = round(rev_test['revenue'], -1)\n",
    "click_revenue_1 = rev_test.loc[rev_test['revenue'] != 0]\n",
    "sns.countplot(x = 'revenue', hue = \"revenue\", data = click_revenue_1)"
   ]
  },
  {
   "cell_type": "code",
   "execution_count": null,
   "id": "cloudy-truth",
   "metadata": {},
   "outputs": [],
   "source": []
  },
  {
   "cell_type": "code",
   "execution_count": null,
   "id": "average-eight",
   "metadata": {},
   "outputs": [],
   "source": []
  },
  {
   "cell_type": "code",
   "execution_count": null,
   "id": "informed-knowing",
   "metadata": {},
   "outputs": [],
   "source": []
  }
 ],
 "metadata": {
  "kernelspec": {
   "display_name": "Python 3",
   "language": "python",
   "name": "python3"
  },
  "language_info": {
   "codemirror_mode": {
    "name": "ipython",
    "version": 3
   },
   "file_extension": ".py",
   "mimetype": "text/x-python",
   "name": "python",
   "nbconvert_exporter": "python",
   "pygments_lexer": "ipython3",
   "version": "3.9.0"
  }
 },
 "nbformat": 4,
 "nbformat_minor": 5
}
