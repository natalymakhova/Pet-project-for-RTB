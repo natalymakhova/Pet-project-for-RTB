{
 "cells": [
  {
   "cell_type": "markdown",
   "id": "encouraging-record",
   "metadata": {},
   "source": [
    "### Решение задачи регрессии, где в качестве целевой функции выступает графа \"доход\" (revenue)\n",
    "Обученная модель должена определить, какой доход (revenue) можно ждать от определенного пользователя."
   ]
  },
  {
   "cell_type": "code",
   "execution_count": 4,
   "id": "helpful-quality",
   "metadata": {},
   "outputs": [],
   "source": [
    "import pandas as pd\n",
    "import numpy as np\n",
    "import matplotlib.pyplot as plt\n",
    "import seaborn as sns\n",
    "%matplotlib inline\n",
    "import xgboost as xgb\n",
    "from sklearn.ensemble import RandomForestRegressor\n",
    "from sklearn.model_selection import GridSearchCV, RandomizedSearchCV\n",
    "from sklearn.model_selection import train_test_split\n",
    "from sklearn.metrics import precision_score\n",
    "from sklearn.metrics import recall_score\n",
    "from sklearn.metrics import mean_squared_error\n"
   ]
  },
  {
   "cell_type": "code",
   "execution_count": 5,
   "id": "honey-expense",
   "metadata": {},
   "outputs": [],
   "source": [
    "from category_encoders.binary import BinaryEncoder"
   ]
  },
  {
   "cell_type": "code",
   "execution_count": 6,
   "id": "suited-acrobat",
   "metadata": {},
   "outputs": [],
   "source": [
    "# Загрузка урезанной версии выборки\n",
    "dataset = pd.read_csv('dataset_cut.csv')"
   ]
  },
  {
   "cell_type": "code",
   "execution_count": 7,
   "id": "comparative-funds",
   "metadata": {
    "scrolled": true
   },
   "outputs": [
    {
     "name": "stderr",
     "output_type": "stream",
     "text": [
      "c:\\users\\owl\\appdata\\local\\programs\\python\\python39\\lib\\site-packages\\category_encoders\\utils.py:21: FutureWarning: is_categorical is deprecated and will be removed in a future version.  Use is_categorical_dtype instead\n",
      "  elif pd.api.types.is_categorical(cols):\n"
     ]
    }
   ],
   "source": [
    "# Выбор нужных колонок для массива признаков (features)\n",
    "# и их кодирование при помощи BinaryEncoder\n",
    "X = dataset.drop(['revenue'], axis=1)\n",
    "ce_bin = BinaryEncoder(cols = X.columns)\n",
    "X = ce_bin.fit_transform(X)"
   ]
  },
  {
   "cell_type": "code",
   "execution_count": 8,
   "id": "aerial-trader",
   "metadata": {},
   "outputs": [],
   "source": [
    "# Переменные отклика (target)\n",
    "y = dataset.revenue"
   ]
  },
  {
   "cell_type": "code",
   "execution_count": 9,
   "id": "pretty-lancaster",
   "metadata": {},
   "outputs": [],
   "source": [
    "# Разделение данных на обучающие и тестовые\n",
    "X_train, X_test, y_train, y_test = train_test_split(X, y, test_size=0.25)"
   ]
  },
  {
   "cell_type": "markdown",
   "id": "distinct-romania",
   "metadata": {},
   "source": [
    "#### Random forest"
   ]
  },
  {
   "cell_type": "code",
   "execution_count": 134,
   "id": "opponent-soundtrack",
   "metadata": {},
   "outputs": [],
   "source": [
    "# Определение модели и гиперпараметров \n",
    "rf_reg = RandomForestRegressor()\n",
    "parameters = {'n_estimators': range(20, 80, 10), \n",
    "             'max_depth': range(6,13, 2),\n",
    "            'min_samples_leaf': range(1,7), \n",
    "             'min_samples_split': range(2,10, 2)}"
   ]
  },
  {
   "cell_type": "code",
   "execution_count": 135,
   "id": "trained-tourist",
   "metadata": {},
   "outputs": [],
   "source": [
    "# Создание экземпляра RandomizedSearch (/GridSearch)\n",
    "# search = RandomizedSearchCV(rf_reg, parametrs, n_iter=50, \n",
    "#                             cv=3, n_jobs=-1)\n",
    "search = GridSearchCV(rf_reg, parameters, cv = 3, n_jobs=-1)"
   ]
  },
  {
   "cell_type": "code",
   "execution_count": 136,
   "id": "seeing-nelson",
   "metadata": {
    "scrolled": true
   },
   "outputs": [
    {
     "data": {
      "text/plain": [
       "GridSearchCV(cv=3, estimator=RandomForestRegressor(), n_jobs=-1,\n",
       "             param_grid={'max_depth': range(6, 13, 2),\n",
       "                         'min_samples_leaf': range(1, 7),\n",
       "                         'min_samples_split': range(2, 10, 2),\n",
       "                         'n_estimators': range(20, 80, 10)})"
      ]
     },
     "execution_count": 136,
     "metadata": {},
     "output_type": "execute_result"
    }
   ],
   "source": [
    "# Обучение\n",
    "search.fit(X_train, y_train)"
   ]
  },
  {
   "cell_type": "code",
   "execution_count": 137,
   "id": "informal-worship",
   "metadata": {},
   "outputs": [
    {
     "data": {
      "text/plain": [
       "RandomForestRegressor(max_depth=10, n_estimators=50)"
      ]
     },
     "execution_count": 137,
     "metadata": {},
     "output_type": "execute_result"
    }
   ],
   "source": [
    "best_tree_rf = search.best_estimator_\n",
    "best_tree_rf"
   ]
  },
  {
   "cell_type": "code",
   "execution_count": 138,
   "id": "intensive-camcorder",
   "metadata": {},
   "outputs": [],
   "source": [
    "# Предсказанные значения для тестовой выборки\n",
    "predictions = best_tree_rf.predict(X_test)"
   ]
  },
  {
   "cell_type": "code",
   "execution_count": 139,
   "id": "breeding-above",
   "metadata": {},
   "outputs": [
    {
     "data": {
      "text/plain": [
       "0.6754214582476459"
      ]
     },
     "execution_count": 139,
     "metadata": {},
     "output_type": "execute_result"
    }
   ],
   "source": [
    "# Коэффициент детерминация для обучающей выборки\n",
    "best_tree_rf.score(X_train, y_train, sample_weight=None)"
   ]
  },
  {
   "cell_type": "code",
   "execution_count": 140,
   "id": "retired-morgan",
   "metadata": {
    "scrolled": false
   },
   "outputs": [
    {
     "data": {
      "text/plain": [
       "0.4196878861380692"
      ]
     },
     "execution_count": 140,
     "metadata": {},
     "output_type": "execute_result"
    }
   ],
   "source": [
    "# Коэффициент детерминация для тестовой выборки\n",
    "best_tree_rf.score(X_test, y_test, sample_weight=None)\n",
    "\n",
    "# Результаты обучения можно назвать неудовлетворительными"
   ]
  },
  {
   "cell_type": "markdown",
   "id": "alternative-merit",
   "metadata": {},
   "source": [
    "#### XGBoost"
   ]
  },
  {
   "cell_type": "code",
   "execution_count": 131,
   "id": "unexpected-villa",
   "metadata": {},
   "outputs": [],
   "source": [
    "xg_reg = xgb.XGBRegressor()\n",
    "parameters = {'objective':['reg:squarederror'],\n",
    "              'learning_rate': [0.03, 0.07, 0.1],\n",
    "              'reg_alpha': [5, 10],\n",
    "              'max_depth': [6, 8, 10],\n",
    "              'subsample': [0.7, 0.8],\n",
    "              'colsample_bytree': [0.3, 0.5, 0.7],\n",
    "              'n_estimators': [200, 300]}"
   ]
  },
  {
   "cell_type": "code",
   "execution_count": 132,
   "id": "conditional-inflation",
   "metadata": {},
   "outputs": [],
   "source": [
    "search = RandomizedSearchCV(xg_reg, parameters, n_iter=50, cv = 3, n_jobs = -1)"
   ]
  },
  {
   "cell_type": "code",
   "execution_count": 124,
   "id": "altered-membership",
   "metadata": {},
   "outputs": [
    {
     "name": "stdout",
     "output_type": "stream",
     "text": [
      "Fitting 3 folds for each of 216 candidates, totalling 648 fits\n"
     ]
    },
    {
     "data": {
      "text/plain": [
       "GridSearchCV(cv=3,\n",
       "             estimator=XGBRegressor(base_score=None, booster=None,\n",
       "                                    colsample_bylevel=None,\n",
       "                                    colsample_bynode=None,\n",
       "                                    colsample_bytree=None, gamma=None,\n",
       "                                    gpu_id=None, importance_type='gain',\n",
       "                                    interaction_constraints=None,\n",
       "                                    learning_rate=None, max_delta_step=None,\n",
       "                                    max_depth=None, min_child_weight=None,\n",
       "                                    missing=nan, monotone_constraints=None,\n",
       "                                    n_estimators=100, n_jobs=...\n",
       "                                    num_parallel_tree=None, random_state=None,\n",
       "                                    reg_alpha=None, reg_lambda=None,\n",
       "                                    scale_pos_weight=None, subsample=None,\n",
       "                                    tree_method=None, validate_parameters=None,\n",
       "                                    verbosity=None),\n",
       "             n_jobs=2,\n",
       "             param_grid={'colsample_bytree': [0.3, 0.5, 0.7],\n",
       "                         'learning_rate': [0.03, 0.07, 0.1],\n",
       "                         'max_depth': [6, 8, 10], 'n_estimators': [200, 300],\n",
       "                         'objective': ['reg:squarederror'],\n",
       "                         'reg_alpha': [5, 10], 'subsample': [0.7, 0.8]},\n",
       "             verbose=True)"
      ]
     },
     "execution_count": 124,
     "metadata": {},
     "output_type": "execute_result"
    }
   ],
   "source": [
    "search.fit(X_train, y_train)"
   ]
  },
  {
   "cell_type": "code",
   "execution_count": 125,
   "id": "vulnerable-frost",
   "metadata": {},
   "outputs": [
    {
     "data": {
      "text/plain": [
       "0.4258997580725071"
      ]
     },
     "execution_count": 125,
     "metadata": {},
     "output_type": "execute_result"
    }
   ],
   "source": [
    "search.best_score_"
   ]
  },
  {
   "cell_type": "code",
   "execution_count": 126,
   "id": "rough-retreat",
   "metadata": {},
   "outputs": [
    {
     "data": {
      "text/plain": [
       "XGBRegressor(base_score=0.5, booster='gbtree', colsample_bylevel=1,\n",
       "             colsample_bynode=1, colsample_bytree=0.5, gamma=0, gpu_id=-1,\n",
       "             importance_type='gain', interaction_constraints='',\n",
       "             learning_rate=0.03, max_delta_step=0, max_depth=6,\n",
       "             min_child_weight=1, missing=nan, monotone_constraints='()',\n",
       "             n_estimators=300, n_jobs=8, num_parallel_tree=1, random_state=0,\n",
       "             reg_alpha=10, reg_lambda=1, scale_pos_weight=1, subsample=0.8,\n",
       "             tree_method='exact', validate_parameters=1, verbosity=None)"
      ]
     },
     "execution_count": 126,
     "metadata": {},
     "output_type": "execute_result"
    }
   ],
   "source": [
    "best_tree_xgb = search.best_estimator_\n",
    "best_tree_xgb"
   ]
  },
  {
   "cell_type": "code",
   "execution_count": 127,
   "id": "scheduled-split",
   "metadata": {
    "scrolled": true
   },
   "outputs": [
    {
     "data": {
      "text/plain": [
       "0.6432268649828481"
      ]
     },
     "execution_count": 127,
     "metadata": {},
     "output_type": "execute_result"
    }
   ],
   "source": [
    "best_tree_xgb.score(X_train, y_train)"
   ]
  },
  {
   "cell_type": "code",
   "execution_count": 128,
   "id": "christian-carpet",
   "metadata": {},
   "outputs": [
    {
     "data": {
      "text/plain": [
       "0.44952332826973207"
      ]
     },
     "execution_count": 128,
     "metadata": {},
     "output_type": "execute_result"
    }
   ],
   "source": [
    "best_tree_xgb.score(X_test, y_test)"
   ]
  },
  {
   "cell_type": "code",
   "execution_count": null,
   "id": "wireless-macintosh",
   "metadata": {},
   "outputs": [],
   "source": []
  },
  {
   "cell_type": "code",
   "execution_count": null,
   "id": "impaired-armenia",
   "metadata": {},
   "outputs": [],
   "source": []
  },
  {
   "cell_type": "code",
   "execution_count": null,
   "id": "reasonable-treatment",
   "metadata": {},
   "outputs": [],
   "source": []
  },
  {
   "cell_type": "code",
   "execution_count": null,
   "id": "conscious-victim",
   "metadata": {},
   "outputs": [],
   "source": []
  },
  {
   "cell_type": "code",
   "execution_count": null,
   "id": "biological-client",
   "metadata": {},
   "outputs": [],
   "source": []
  }
 ],
 "metadata": {
  "kernelspec": {
   "display_name": "Python 3",
   "language": "python",
   "name": "python3"
  },
  "language_info": {
   "codemirror_mode": {
    "name": "ipython",
    "version": 3
   },
   "file_extension": ".py",
   "mimetype": "text/x-python",
   "name": "python",
   "nbconvert_exporter": "python",
   "pygments_lexer": "ipython3",
   "version": "3.9.0"
  }
 },
 "nbformat": 4,
 "nbformat_minor": 5
}
