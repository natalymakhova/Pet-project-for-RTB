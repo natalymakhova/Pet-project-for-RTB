{
 "cells": [
  {
   "cell_type": "markdown",
   "id": "enhanced-prevention",
   "metadata": {},
   "source": [
    "### Решение задачи классификации, где в качестве целевой функции выступает графа \"доход\" (revenue)\n",
    "Классификатор должен определить, будет ли от определенного пользователя, кликнувшего рекламу, доход (revenue=1), или нет (revenue=0).\n",
    "В качестве классификатора используется случайный лес (random forest)."
   ]
  },
  {
   "cell_type": "code",
   "execution_count": 10,
   "id": "considered-average",
   "metadata": {},
   "outputs": [],
   "source": [
    "import pandas as pd\n",
    "import numpy as np\n",
    "import xgboost as xgb\n",
    "from sklearn.model_selection import GridSearchCV\n",
    "from sklearn.model_selection import RandomizedSearchCV\n",
    "from sklearn.model_selection import train_test_split\n",
    "from sklearn.metrics import precision_score\n",
    "from sklearn.metrics import recall_score, f1_score\n",
    "from sklearn.metrics import plot_confusion_matrix\n",
    "from sklearn.ensemble import RandomForestClassifier\n",
    "import matplotlib.pyplot as plt"
   ]
  },
  {
   "cell_type": "code",
   "execution_count": 9,
   "id": "cultural-police",
   "metadata": {},
   "outputs": [],
   "source": [
    "from category_encoders.binary import BinaryEncoder"
   ]
  },
  {
   "cell_type": "code",
   "execution_count": 3,
   "id": "pharmaceutical-couple",
   "metadata": {
    "collapsed": true
   },
   "outputs": [
    {
     "name": "stdout",
     "output_type": "stream",
     "text": [
      "<class 'pandas.core.frame.DataFrame'>\n",
      "RangeIndex: 163661 entries, 0 to 163660\n",
      "Data columns (total 18 columns):\n",
      " #   Column          Non-Null Count   Dtype  \n",
      "---  ------          --------------   -----  \n",
      " 0   bannerSize      163661 non-null  object \n",
      " 1   language        163661 non-null  object \n",
      " 2   country         163661 non-null  object \n",
      " 3   city            163661 non-null  object \n",
      " 4   browser         163661 non-null  object \n",
      " 5   browserVersion  163661 non-null  float64\n",
      " 6   os              163661 non-null  object \n",
      " 7   osVersion       163661 non-null  object \n",
      " 8   deviceType      163661 non-null  object \n",
      " 9   deviceModel     163661 non-null  object \n",
      " 10  deviceBrand     163661 non-null  object \n",
      " 11  trafficSource   163661 non-null  int64  \n",
      " 12  offer           163661 non-null  int64  \n",
      " 13  connType        163661 non-null  object \n",
      " 14  proxyType       163661 non-null  object \n",
      " 15  revenue         163661 non-null  int64  \n",
      " 16  weekday         163661 non-null  int64  \n",
      " 17  hour            163661 non-null  int64  \n",
      "dtypes: float64(1), int64(5), object(12)\n",
      "memory usage: 22.5+ MB\n"
     ]
    }
   ],
   "source": [
    "# Загрузка выборки\n",
    "dataset = pd.read_csv('dataset_class.csv')\n",
    "dataset.info()"
   ]
  },
  {
   "cell_type": "code",
   "execution_count": 4,
   "id": "incorrect-salem",
   "metadata": {},
   "outputs": [
    {
     "name": "stderr",
     "output_type": "stream",
     "text": [
      "c:\\users\\owl\\appdata\\local\\programs\\python\\python39\\lib\\site-packages\\category_encoders\\utils.py:21: FutureWarning: is_categorical is deprecated and will be removed in a future version.  Use is_categorical_dtype instead\n",
      "  elif pd.api.types.is_categorical(cols):\n"
     ]
    }
   ],
   "source": [
    "# Выбор нужных колонок для массива признаков (features)\n",
    "# и их кодирование при помощи BinaryEncoder\n",
    "X = dataset.drop(['revenue'], axis=1)\n",
    "ce_bin = BinaryEncoder(cols = X.columns)\n",
    "X = ce_bin.fit_transform(X)"
   ]
  },
  {
   "cell_type": "code",
   "execution_count": 5,
   "id": "sticky-provision",
   "metadata": {},
   "outputs": [],
   "source": [
    "# Переменные отклика (target)\n",
    "y = dataset.revenue"
   ]
  },
  {
   "cell_type": "code",
   "execution_count": 6,
   "id": "roman-cosmetic",
   "metadata": {},
   "outputs": [],
   "source": [
    "# Разделение данных на обучающие и тестовые\n",
    "X_train, X_test, y_train, y_test = train_test_split(X, y, test_size=0.25)"
   ]
  },
  {
   "cell_type": "markdown",
   "id": "mechanical-complexity",
   "metadata": {},
   "source": [
    "#### Random forest"
   ]
  },
  {
   "cell_type": "code",
   "execution_count": 49,
   "id": "universal-guidance",
   "metadata": {},
   "outputs": [],
   "source": [
    "# Определение модели и гиперпараметров \n",
    "rf = RandomForestClassifier()\n",
    "parametrs = {'n_estimators': range(20, 80, 10), 'max_depth': range(6,13, 2),\n",
    "            'min_samples_leaf': range(1,7), 'min_samples_split': range(2,10, 2)}"
   ]
  },
  {
   "cell_type": "code",
   "execution_count": 50,
   "id": "rotary-patch",
   "metadata": {},
   "outputs": [],
   "source": [
    "# Создание экземпляра RandomizedSearch (/GridSearch)\n",
    "search = RandomizedSearchCV(rf, parametrs, n_iter=20, cv = 3, n_jobs=-1)\n",
    "# search = GridSearchCV(rf, parametrs, cv = 3, n_jobs=-1)"
   ]
  },
  {
   "cell_type": "code",
   "execution_count": 51,
   "id": "creative-responsibility",
   "metadata": {},
   "outputs": [
    {
     "data": {
      "text/plain": [
       "RandomizedSearchCV(cv=3, estimator=RandomForestClassifier(), n_iter=20,\n",
       "                   n_jobs=-1,\n",
       "                   param_distributions={'max_depth': range(6, 13, 2),\n",
       "                                        'min_samples_leaf': range(1, 7),\n",
       "                                        'min_samples_split': range(2, 10, 2),\n",
       "                                        'n_estimators': range(20, 80, 10)})"
      ]
     },
     "execution_count": 51,
     "metadata": {},
     "output_type": "execute_result"
    }
   ],
   "source": [
    "# Обучение\n",
    "search.fit(X, y)"
   ]
  },
  {
   "cell_type": "code",
   "execution_count": 52,
   "id": "written-opposition",
   "metadata": {},
   "outputs": [
    {
     "data": {
      "text/plain": [
       "RandomForestClassifier(max_depth=8, min_samples_leaf=3, n_estimators=50)"
      ]
     },
     "execution_count": 52,
     "metadata": {},
     "output_type": "execute_result"
    }
   ],
   "source": [
    "best_clf_rf = search.best_estimator_\n",
    "best_clf_rf"
   ]
  },
  {
   "cell_type": "code",
   "execution_count": 53,
   "id": "concrete-venezuela",
   "metadata": {},
   "outputs": [],
   "source": [
    "# Предсказанные значения для тестовой выборки\n",
    "predictions = best_clf_rf.predict(X_test)"
   ]
  },
  {
   "cell_type": "markdown",
   "id": "egyptian-strength",
   "metadata": {},
   "source": [
    "Оценка качества работы модели на основании показателей precision и recall (полученные значения: 0.971 и 0.978)"
   ]
  },
  {
   "cell_type": "code",
   "execution_count": 54,
   "id": "union-railway",
   "metadata": {},
   "outputs": [
    {
     "data": {
      "text/plain": [
       "0.9708824117851402"
      ]
     },
     "execution_count": 54,
     "metadata": {},
     "output_type": "execute_result"
    }
   ],
   "source": [
    "precision_score(y_test, predictions, average='weighted')"
   ]
  },
  {
   "cell_type": "code",
   "execution_count": 56,
   "id": "copyrighted-phase",
   "metadata": {},
   "outputs": [
    {
     "data": {
      "text/plain": [
       "0.9777348714439339"
      ]
     },
     "execution_count": 56,
     "metadata": {},
     "output_type": "execute_result"
    }
   ],
   "source": [
    "recall_score(y_test, predictions, average='weighted')"
   ]
  },
  {
   "cell_type": "code",
   "execution_count": 63,
   "id": "guided-understanding",
   "metadata": {},
   "outputs": [],
   "source": [
    "# Предсказание вероятности относения к классу\n",
    "y_predict_prob = best_clf_rf.predict_proba(X_test)"
   ]
  },
  {
   "cell_type": "code",
   "execution_count": 64,
   "id": "concerned-desktop",
   "metadata": {},
   "outputs": [
    {
     "data": {
      "image/png": "[encoded data removed]",
      "text/plain": [
       "<Figure size 432x288 with 1 Axes>"
      ]
     },
     "metadata": {
      "needs_background": "light"
     },
     "output_type": "display_data"
    }
   ],
   "source": [
    "# Отрисовка ROC-кривой\n",
    "from sklearn.metrics import roc_curve, auc\n",
    "fpr, tpr, thresholds = roc_curve(y_test, y_predict_prob[:,1])\n",
    "roc_auc= auc(fpr, tpr)\n",
    "plt.figure()\n",
    "plt.plot(fpr, tpr, label='ROC curve (area = %0.2f)' % roc_auc)\n",
    "plt.plot([0, 1], [0, 1],  'k--')\n",
    "plt.xlim([0.0, 1.0])\n",
    "plt.ylim([0.0, 1.05])\n",
    "plt.xlabel('False Positive Rate')\n",
    "plt.ylabel('True Positive Rate')\n",
    "plt.title('Receiver operating characteristic example')\n",
    "plt.legend(loc=\"lower right\")\n",
    "plt.show()"
   ]
  },
  {
   "cell_type": "code",
   "execution_count": 82,
   "id": "civilian-elder",
   "metadata": {},
   "outputs": [],
   "source": [
    "# Изменение границы вероятности, при которой относим пользователя \n",
    "# к определенному классу\n",
    "y_pred = np.where(y_predict_prob[:, 1] > 0.8, 1, 0)"
   ]
  },
  {
   "cell_type": "code",
   "execution_count": 83,
   "id": "breathing-chamber",
   "metadata": {},
   "outputs": [
    {
     "name": "stderr",
     "output_type": "stream",
     "text": [
      "c:\\users\\owl\\appdata\\local\\programs\\python\\python39\\lib\\site-packages\\sklearn\\metrics\\_classification.py:1248: UndefinedMetricWarning: Precision is ill-defined and being set to 0.0 in labels with no predicted samples. Use `zero_division` parameter to control this behavior.\n",
      "  _warn_prf(average, modifier, msg_start, len(result))\n"
     ]
    },
    {
     "data": {
      "text/plain": [
       "0.955726532271191"
      ]
     },
     "execution_count": 83,
     "metadata": {},
     "output_type": "execute_result"
    }
   ],
   "source": [
    "precision_score(y_test, y_pred, average='weighted')"
   ]
  },
  {
   "cell_type": "code",
   "execution_count": 84,
   "id": "spatial-might",
   "metadata": {},
   "outputs": [
    {
     "data": {
      "text/plain": [
       "0.9776126698602013"
      ]
     },
     "execution_count": 84,
     "metadata": {},
     "output_type": "execute_result"
    }
   ],
   "source": [
    "recall_score(y_test, y_pred, average='weighted')"
   ]
  },
  {
   "cell_type": "markdown",
   "id": "annoying-sessions",
   "metadata": {},
   "source": [
    "Изменение порогового значения не дало существенных улучшений ни для одного из параметров"
   ]
  },
  {
   "cell_type": "code",
   "execution_count": null,
   "id": "canadian-mention",
   "metadata": {},
   "outputs": [],
   "source": []
  },
  {
   "cell_type": "markdown",
   "id": "quarterly-vancouver",
   "metadata": {},
   "source": [
    "#### XGBoost"
   ]
  },
  {
   "cell_type": "code",
   "execution_count": 13,
   "id": "separate-deposit",
   "metadata": {},
   "outputs": [],
   "source": [
    "xgb_class = xgb.XGBClassifier()\n",
    "parameters = {'n_estimators': [200, 300, 400, 500],\n",
    "             'max_depth': [6, 8, 10],\n",
    "             'learning_rate':[0.03, 0.07, 0.1],\n",
    "             'reg_alpha': [0, 2, 5],\n",
    "             'reg_lambda': [1, 2]\n",
    "             }"
   ]
  },
  {
   "cell_type": "code",
   "execution_count": 14,
   "id": "bacterial-optimum",
   "metadata": {},
   "outputs": [],
   "source": [
    "search = RandomizedSearchCV(xgb_class, parameters, n_iter=50, cv = 3, n_jobs=-1)"
   ]
  },
  {
   "cell_type": "code",
   "execution_count": 15,
   "id": "expressed-martial",
   "metadata": {},
   "outputs": [
    {
     "name": "stderr",
     "output_type": "stream",
     "text": [
      "c:\\users\\owl\\appdata\\local\\programs\\python\\python39\\lib\\site-packages\\xgboost\\sklearn.py:1146: UserWarning: The use of label encoder in XGBClassifier is deprecated and will be removed in a future release. To remove this warning, do the following: 1) Pass option use_label_encoder=False when constructing XGBClassifier object; and 2) Encode your labels (y) as integers starting with 0, i.e. 0, 1, 2, ..., [num_class - 1].\n",
      "  warnings.warn(label_encoder_deprecation_msg, UserWarning)\n"
     ]
    },
    {
     "name": "stdout",
     "output_type": "stream",
     "text": [
      "[12:50:13] WARNING: C:/Users/Administrator/workspace/xgboost-win64_release_1.4.0/src/learner.cc:1095: Starting in XGBoost 1.3.0, the default evaluation metric used with the objective 'binary:logistic' was changed from 'error' to 'logloss'. Explicitly set eval_metric if you'd like to restore the old behavior.\n"
     ]
    },
    {
     "data": {
      "text/plain": [
       "RandomizedSearchCV(cv=3,\n",
       "                   estimator=XGBClassifier(base_score=None, booster=None,\n",
       "                                           colsample_bylevel=None,\n",
       "                                           colsample_bynode=None,\n",
       "                                           colsample_bytree=None, gamma=None,\n",
       "                                           gpu_id=None, importance_type='gain',\n",
       "                                           interaction_constraints=None,\n",
       "                                           learning_rate=None,\n",
       "                                           max_delta_step=None, max_depth=None,\n",
       "                                           min_child_weight=None, missing=nan,\n",
       "                                           monotone_constraints=None,\n",
       "                                           n_estimators=100, n_jobs=None,\n",
       "                                           num_parallel_tree=None,\n",
       "                                           random_state=None, reg_alpha=None,\n",
       "                                           reg_lambda=None,\n",
       "                                           scale_pos_weight=None,\n",
       "                                           subsample=None, tree_method=None,\n",
       "                                           validate_parameters=None,\n",
       "                                           verbosity=None),\n",
       "                   n_iter=50, n_jobs=-1,\n",
       "                   param_distributions={'learning_rate': [0.03, 0.07, 0.1],\n",
       "                                        'max_depth': [6, 8, 10],\n",
       "                                        'n_estimators': [200, 300, 400, 500],\n",
       "                                        'reg_alpha': [0, 2, 5],\n",
       "                                        'reg_lambda': [1, 2]})"
      ]
     },
     "execution_count": 15,
     "metadata": {},
     "output_type": "execute_result"
    }
   ],
   "source": [
    "search.fit(X_train, y_train)"
   ]
  },
  {
   "cell_type": "code",
   "execution_count": 16,
   "id": "suspected-compilation",
   "metadata": {},
   "outputs": [
    {
     "data": {
      "text/plain": [
       "XGBClassifier(base_score=0.5, booster='gbtree', colsample_bylevel=1,\n",
       "              colsample_bynode=1, colsample_bytree=1, gamma=0, gpu_id=-1,\n",
       "              importance_type='gain', interaction_constraints='',\n",
       "              learning_rate=0.03, max_delta_step=0, max_depth=6,\n",
       "              min_child_weight=1, missing=nan, monotone_constraints='()',\n",
       "              n_estimators=300, n_jobs=8, num_parallel_tree=1, random_state=0,\n",
       "              reg_alpha=2, reg_lambda=2, scale_pos_weight=1, subsample=1,\n",
       "              tree_method='exact', validate_parameters=1, verbosity=None)"
      ]
     },
     "execution_count": 16,
     "metadata": {},
     "output_type": "execute_result"
    }
   ],
   "source": [
    "best_clf_xgb = search.best_estimator_\n",
    "best_clf_xgb"
   ]
  },
  {
   "cell_type": "code",
   "execution_count": 17,
   "id": "bound-person",
   "metadata": {},
   "outputs": [],
   "source": [
    "predictions = best_clf_xgb.predict(X_test)"
   ]
  },
  {
   "cell_type": "code",
   "execution_count": 18,
   "id": "closed-flesh",
   "metadata": {},
   "outputs": [
    {
     "data": {
      "text/plain": [
       "0.9724093161070995"
      ]
     },
     "execution_count": 18,
     "metadata": {},
     "output_type": "execute_result"
    }
   ],
   "source": [
    "precision_score(y_test, predictions, average='weighted')"
   ]
  },
  {
   "cell_type": "code",
   "execution_count": 19,
   "id": "aging-basement",
   "metadata": {},
   "outputs": [
    {
     "data": {
      "text/plain": [
       "0.9777104311271874"
      ]
     },
     "execution_count": 19,
     "metadata": {},
     "output_type": "execute_result"
    }
   ],
   "source": [
    "recall_score(y_test, predictions, average='weighted')"
   ]
  },
  {
   "cell_type": "markdown",
   "id": "civil-diagnosis",
   "metadata": {},
   "source": [
    "Результат почти не отличается от того, который был получен при использовании Random Forest (немного выше значение показателя precision)"
   ]
  },
  {
   "cell_type": "code",
   "execution_count": null,
   "id": "accurate-consolidation",
   "metadata": {},
   "outputs": [],
   "source": []
  }
 ],
 "metadata": {
  "kernelspec": {
   "display_name": "Python 3",
   "language": "python",
   "name": "python3"
  },
  "language_info": {
   "codemirror_mode": {
    "name": "ipython",
    "version": 3
   },
   "file_extension": ".py",
   "mimetype": "text/x-python",
   "name": "python",
   "nbconvert_exporter": "python",
   "pygments_lexer": "ipython3",
   "version": "3.9.0"
  }
 },
 "nbformat": 4,
 "nbformat_minor": 5
}
